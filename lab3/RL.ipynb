{
  "cells": [
    {
      "cell_type": "markdown",
      "metadata": {
        "id": "jrI6q7RmWQam"
      },
      "source": [
        "<table align=\"center\">\n",
        "  <td align=\"center\"><a target=\"_blank\" href=\"http://introtodeeplearning.com\">\n",
        "        <img src=\"https://i.ibb.co/Jr88sn2/mit.png\" style=\"padding-bottom:5px;\" />\n",
        "      Visit MIT Deep Learning</a></td>\n",
        "  <td align=\"center\"><a target=\"_blank\" href=\"https://colab.research.google.com/github/aamini/introtodeeplearning/blob/master/lab3/RL.ipynb\">\n",
        "        <img src=\"https://i.ibb.co/2P3SLwK/colab.png\"  style=\"padding-bottom:5px;\" />Run in Google Colab</a></td>\n",
        "  <td align=\"center\"><a target=\"_blank\" href=\"https://github.com/aamini/introtodeeplearning/blob/master/lab3/RL.ipynb\">\n",
        "        <img src=\"https://i.ibb.co/xfJbPmL/github.png\"  height=\"70px\" style=\"padding-bottom:5px;\"  />View Source on GitHub</a></td>\n",
        "</table>\n",
        "\n",
        "# Copyright Information"
      ]
    },
    {
      "cell_type": "code",
      "execution_count": null,
      "metadata": {
        "id": "wkd375upWYok"
      },
      "outputs": [],
      "source": [
        "# Copyright 2022 MIT 6.S191 Introduction to Deep Learning. All Rights Reserved.\n",
        "# \n",
        "# Licensed under the MIT License. You may not use this file except in compliance\n",
        "# with the License. Use and/or modification of this code outside of 6.S191 must\n",
        "# reference:\n",
        "#\n",
        "# © MIT 6.S191: Introduction to Deep Learning\n",
        "# http://introtodeeplearning.com\n",
        "#"
      ]
    },
    {
      "cell_type": "markdown",
      "metadata": {
        "id": "WoXYKhfZMHiw"
      },
      "source": [
        "# Laboratory 3: Reinforcement Learning\n",
        "\n",
        "Reinforcement learning (RL) is a subset of machine learning which poses learning problems as interactions between agents and environments. It often assumes agents have no prior knowledge of a world, so they must learn to navigate environments by optimizing a reward function. Within an environment, an agent can take certain actions and receive feedback, in the form of positive or negative rewards, with respect to their decision. As such, an agent's feedback loop is somewhat akin to the idea of \"trial and error\", or the manner in which a child might learn to distinguish between \"good\" and \"bad\" actions.\n",
        "\n",
        "In practical terms, our RL agent will interact with the environment by taking an action at each timestep, receiving a corresponding reward, and updating its state according to what it has \"learned\".  \n",
        "\n",
        "![alt text](https://www.kdnuggets.com/images/reinforcement-learning-fig1-700.jpg)\n",
        "\n",
        "While the ultimate goal of reinforcement learning is to teach agents to act in the real, physical world, simulated environments -- like games and simulation engines -- provide a convenient proving ground for developing RL algorithms and agents.\n",
        "\n",
        "In previous labs, we have explored both supervised (with LSTMs, CNNs) and unsupervised / semi-supervised (with VAEs) learning tasks. Reinforcement learning is fundamentally different, in that we are training a deep learning algorithm to govern the actions of our RL agent, that is trying, within its environment, to find the optimal way to achieve a goal. The goal of training an RL agent is to determine the best next step to take to earn the greatest final payoff or return. In this lab, we focus on building a reinforcement learning algorithm to master two different environments with varying complexity. \n",
        "\n",
        "1.   **Cartpole**:   Balance a pole, protruding from a cart, in an upright position by only moving the base left or right. Environment with a low-dimensional observation space.\n",
        "2.   [**Driving in VISTA**](https://www.mit.edu/~amini/pubs/pdf/learning-in-simulation-vista.pdf): Learn a driving control policy for an autonomous vehicle, end-to-end from raw pixel inputs and entirely in the data-driven simulation environment of VISTA. Environment with a high-dimensional observation space -- learning directly from raw pixels.\n",
        "\n",
        "Let's get started! First we'll import TensorFlow, the course package, and some dependencies.\n"
      ]
    },
    {
      "cell_type": "code",
      "execution_count": 1,
      "metadata": {
        "id": "KR9QHuleJ9Bh",
        "outputId": "691c1a7d-a3e3-4eba-cff7-4bf2be6966fb",
        "colab": {
          "base_uri": "https://localhost:8080/"
        }
      },
      "outputs": [
        {
          "output_type": "stream",
          "name": "stdout",
          "text": [
            "Installing MIT deep learning package... Done\n"
          ]
        }
      ],
      "source": [
        "# Import Tensorflow 2.0\n",
        "%tensorflow_version 2.x\n",
        "import tensorflow as tf\n",
        "\n",
        "gpus = tf.config.experimental.list_physical_devices('GPU')\n",
        "if gpus:\n",
        "    for gpu in gpus:\n",
        "        tf.config.experimental.set_memory_growth(gpu, True)\n",
        "\n",
        "# Download and import the MIT 6.S191 package\n",
        "!printf \"Installing MIT deep learning package... \"\n",
        "!pip install --upgrade git+https://github.com/aamini/introtodeeplearning.git &> /dev/null\n",
        "!echo \"Done\""
      ]
    },
    {
      "cell_type": "code",
      "execution_count": 2,
      "metadata": {
        "id": "EvdePP-VyVWp"
      },
      "outputs": [],
      "source": [
        "#Install some dependencies for visualizing the agents\n",
        "!apt-get install -y xvfb python-opengl x11-utils &> /dev/null\n",
        "!pip install gym pyvirtualdisplay scikit-video ffio pyrender &> /dev/null\n",
        "!pip install tensorflow_probability==0.12.0 &> /dev/null\n",
        "import os\n",
        "os.environ['PYOPENGL_PLATFORM'] = 'egl'\n",
        "\n",
        "import numpy as np\n",
        "import matplotlib, cv2\n",
        "import matplotlib.pyplot as plt\n",
        "import base64, io, os, time, gym\n",
        "import IPython, functools\n",
        "import time\n",
        "from tqdm import tqdm\n",
        "import tensorflow_probability as tfp\n",
        "\n",
        "import mitdeeplearning as mdl"
      ]
    },
    {
      "cell_type": "code",
      "source": [
        "gpus"
      ],
      "metadata": {
        "id": "54ry76o0oWdW",
        "outputId": "8125f025-05e1-4274-869c-bec4e0def4c7",
        "colab": {
          "base_uri": "https://localhost:8080/"
        }
      },
      "execution_count": 3,
      "outputs": [
        {
          "output_type": "execute_result",
          "data": {
            "text/plain": [
              "[PhysicalDevice(name='/physical_device:GPU:0', device_type='GPU')]"
            ]
          },
          "metadata": {},
          "execution_count": 3
        }
      ]
    },
    {
      "cell_type": "markdown",
      "metadata": {
        "id": "zmrHSiXKTXTY"
      },
      "source": [
        "Before we dive in, let's take a step back and outline our approach, which is generally applicable to reinforcement learning problems in general:\n",
        "\n",
        "1. **Initialize our environment and our agent**: here we will describe the different observations and actions the agent can make in the environemnt.\n",
        "2. **Define our agent's memory**: this will enable the agent to remember its past actions, observations, and rewards.\n",
        "3. **Define a reward function**: describes the reward associated with an action or sequence of actions.\n",
        "4. **Define the learning algorithm**: this will be used to reinforce the agent's good behaviors and discourage bad behaviors.\n"
      ]
    },
    {
      "cell_type": "markdown",
      "metadata": {
        "id": "UT7YL8KBJIIc"
      },
      "source": [
        "# Part 1: Cartpole\n",
        "\n",
        "## 3.1 Define the Cartpole environment and agent\n",
        "\n",
        "### Environment \n",
        "\n",
        "In order to model the environment for the Cartpole task, we'll be using a toolkit developed by OpenAI called [OpenAI Gym](https://gym.openai.com/). It provides several pre-defined environments for training and testing reinforcement learning agents, including those for classic physics control tasks, Atari video games, and robotic simulations. To access the Cartpole environment, we can use `env = gym.make(\"CartPole-v0\")`, which we gained access to when we imported the `gym` package. We can instantiate different [environments](https://gym.openai.com/envs/#classic_control) by passing the enivronment name to the `make` function.\n",
        "\n",
        "One issue we might experience when developing RL algorithms is that many aspects of the learning process are inherently random: initializing game states, changes in the environment, and the agent's actions. As such, it can be helpful to set a initial \"seed\" for the environment to ensure some level of reproducibility. Much like you might use `numpy.random.seed`, we can call the comparable function in gym, `seed`, with our defined environment to ensure the environment's random variables are initialized the same each time."
      ]
    },
    {
      "cell_type": "code",
      "execution_count": 27,
      "metadata": {
        "id": "quv9SC0iIYFm",
        "outputId": "fa0c5f7a-899d-4fa7-e97b-6a6def9e4774",
        "colab": {
          "base_uri": "https://localhost:8080/"
        }
      },
      "outputs": [
        {
          "output_type": "execute_result",
          "data": {
            "text/plain": [
              "[1]"
            ]
          },
          "metadata": {},
          "execution_count": 27
        }
      ],
      "source": [
        "### Instantiate the Cartpole environment ###\n",
        "\n",
        "env = gym.make(\"CartPole-v1\")\n",
        "env.seed(1)"
      ]
    },
    {
      "cell_type": "markdown",
      "metadata": {
        "id": "mhEITUcKK455"
      },
      "source": [
        "In Cartpole, a pole is attached by an un-actuated joint to a cart, which moves along a frictionless track. The pole starts upright, and the goal is to prevent it from falling over. The system is controlled by applying a force of +1 or -1 to the cart. A reward of +1 is provided for every timestep that the pole remains upright. The episode ends when the pole is more than 15 degrees from vertical, or the cart moves more than 2.4 units from the center of the track. A visual summary of the cartpole environment is depicted below:\n",
        "\n",
        "<img width=\"400px\" src=\"https://danielpiedrahita.files.wordpress.com/2017/02/cart-pole.png\"></img>\n",
        "\n",
        "Given this setup for the environment and the objective of the game, we can think about: 1) what observations help define the environment's state; 2) what actions the agent can take. \n",
        "\n",
        "First, let's consider the observation space. In this Cartpole environment our observations are:\n",
        "\n",
        "1. Cart position\n",
        "2. Cart velocity\n",
        "3. Pole angle\n",
        "4. Pole rotation rate\n",
        "\n",
        "We can confirm the size of the space by querying the environment's observation space:\n"
      ]
    },
    {
      "cell_type": "code",
      "execution_count": 28,
      "metadata": {
        "id": "UVJaEcbdIX82",
        "outputId": "143ec647-5df0-4b12-9a79-63d5fa295ed8",
        "colab": {
          "base_uri": "https://localhost:8080/"
        }
      },
      "outputs": [
        {
          "output_type": "stream",
          "name": "stdout",
          "text": [
            "Environment has observation space = Box(-3.4028234663852886e+38, 3.4028234663852886e+38, (4,), float32)\n"
          ]
        }
      ],
      "source": [
        "n_observations = env.observation_space\n",
        "print(\"Environment has observation space =\", n_observations)"
      ]
    },
    {
      "cell_type": "markdown",
      "metadata": {
        "id": "ZibGgjrALgPM"
      },
      "source": [
        "Second, we consider the action space. At every time step, the agent can move either right or left. Again we can confirm the size of the action space by querying the environment:"
      ]
    },
    {
      "cell_type": "code",
      "execution_count": 29,
      "metadata": {
        "id": "qc9SIPxBIXrm",
        "outputId": "7ecd7a26-a945-473a-d1c1-673f031b5c9c",
        "colab": {
          "base_uri": "https://localhost:8080/"
        }
      },
      "outputs": [
        {
          "output_type": "stream",
          "name": "stdout",
          "text": [
            "Number of possible actions that the agent can choose from = 2\n"
          ]
        }
      ],
      "source": [
        "n_actions = env.action_space.n\n",
        "print(\"Number of possible actions that the agent can choose from =\", n_actions)"
      ]
    },
    {
      "cell_type": "markdown",
      "metadata": {
        "id": "pPfHME8aRKkb"
      },
      "source": [
        "### Cartpole agent\n",
        "\n",
        "Now that we have instantiated the environment and understood the dimensionality of the observation and action spaces, we are ready to define our agent. In deep reinforcement learning, a deep neural network defines the agent. This network will take as input an observation of the environment and output the probability of taking each of the possible actions. Since Cartpole is defined by a low-dimensional observation space, a simple feed-forward neural network should work well for our agent. We will define this using the `Sequential` API.\n"
      ]
    },
    {
      "cell_type": "code",
      "execution_count": 30,
      "metadata": {
        "id": "W-o_XK4oQ4eu"
      },
      "outputs": [],
      "source": [
        "### Define the Cartpole agent ###\n",
        "\n",
        "# Defines a feed-forward neural network\n",
        "def create_cartpole_model():\n",
        "    model = tf.keras.models.Sequential([\n",
        "        # First Dense layer\n",
        "        tf.keras.layers.Dense(units=32, activation='relu'),\n",
        "        \n",
        "        # TODO: Define the last Dense layer, which will provide the network's output.\n",
        "        # Think about the space the agent needs to act in!\n",
        "        tf.keras.layers.Dense(units=n_actions, activation=None)\n",
        "    ])\n",
        "    return model\n",
        "\n",
        "cartpole_model = create_cartpole_model()"
      ]
    },
    {
      "cell_type": "markdown",
      "metadata": {
        "id": "d5D5NSIYS2IW"
      },
      "source": [
        "Now that we have defined the core network architecture, we will define an *action function* that executes a forward pass through the network, given a set of observations, and samples from the output. This sampling from the output probabilities will be used to select the next action for the agent. We will also add support so that the `choose_action` function can handle either a single observation or a batch of observations.\n",
        "\n",
        "**Critically, this action function is totally general -- we will use this function for learning control algorithms for Cartpole, but it is applicable to other RL tasks, as well!**"
      ]
    },
    {
      "cell_type": "code",
      "execution_count": 20,
      "metadata": {
        "id": "E_vVZRr8Q4R_"
      },
      "outputs": [],
      "source": [
        "### Define the agent's action function ###\n",
        "\n",
        "# Function that takes observations as input, executes a forward pass through model, \n",
        "#   and outputs a sampled action.\n",
        "# Arguments:\n",
        "#   model: the network that defines our agent\n",
        "#   observation: observation(s) which is/are fed as input to the model\n",
        "#   single: flag as to whether we are handling a single observation or batch of\n",
        "#     observations, provided as an np.array\n",
        "# Returns:\n",
        "#   action: choice of agent action\n",
        "def choose_action(model, observation, single=True):\n",
        "    # add batch dimension to the observation if only a single example was provided\n",
        "    observation = np.expand_dims(observation, axis=0) if single else observation\n",
        "\n",
        "    '''TODO: feed the observations through the model to predict the log probabilities of each possible action.'''\n",
        "    # logits = model.predict('''TODO''')\n",
        "    logits = model.predict(observation)\n",
        "\n",
        "    '''TODO: Choose an action from the categorical distribution defined by the log \n",
        "       probabilities of each possible action.'''\n",
        "    action = tf.random.categorical(logits, num_samples=1)\n",
        "\n",
        "    action = action.numpy().flatten()\n",
        "\n",
        "    return action[0] if single else action"
      ]
    },
    {
      "cell_type": "markdown",
      "metadata": {
        "id": "_tR9uAWcTnkr"
      },
      "source": [
        "## 3.2 Define the agent's memory\n",
        "\n",
        "Now that we have instantiated the environment and defined the agent network architecture and action function, we are ready to move on to the next step in our RL workflow:\n",
        "1. **Initialize our environment and our agent**: here we will describe the different observations and actions the agent can make in the environemnt.\n",
        "2. **Define our agent's memory**: this will enable the agent to remember its past actions, observations, and rewards.\n",
        "3. **Define the learning algorithm**: this will be used to reinforce the agent's good behaviors and discourage bad behaviors.\n",
        "\n",
        "In reinforcement learning, training occurs alongside the agent's acting in the environment; an *episode* refers to a sequence of actions that ends in some terminal state, such as the pole falling down or the cart crashing. The agent will need to remember all of its observations and actions, such that once an episode ends, it can learn to \"reinforce\" the good actions and punish the undesirable actions via training. Our first step is to define a simple `Memory` buffer that contains the agent's observations, actions, and received rewards from a given episode. We will also add support to combine a list of `Memory` objects into a single `Memory`. This will be very useful for batching, which will help you accelerate training later on in the lab.\n",
        "\n",
        "**Once again, note the modularity of this memory buffer -- it can and will be applied to other RL tasks as well!**"
      ]
    },
    {
      "cell_type": "code",
      "execution_count": 21,
      "metadata": {
        "id": "8MM6JwXVQ4JG"
      },
      "outputs": [],
      "source": [
        "### Agent Memory ###\n",
        "\n",
        "class Memory:\n",
        "    def __init__(self): \n",
        "        self.clear()\n",
        "\n",
        "  # Resets/restarts the memory buffer\n",
        "    def clear(self): \n",
        "        self.observations = []\n",
        "        self.actions = []\n",
        "        self.rewards = []\n",
        "\n",
        "  # Add observations, actions, rewards to memory\n",
        "    def add_to_memory(self, new_observation, new_action, new_reward): \n",
        "        self.observations.append(new_observation)\n",
        "        \n",
        "        '''TODO: update the list of actions with new action'''\n",
        "        self.actions.append(new_action)\n",
        "        # ['''TODO''']\n",
        "\n",
        "        '''TODO: update the list of rewards with new reward'''\n",
        "        self.rewards.append(new_reward)\n",
        "        # ['''TODO''']\n",
        "\n",
        "    def __len__(self):\n",
        "        return len(self.actions)\n",
        "\n",
        "# Instantiate a single Memory buffer\n",
        "memory = Memory()"
      ]
    },
    {
      "cell_type": "markdown",
      "metadata": {
        "id": "D4YhtPaUVj5m"
      },
      "source": [
        "## 3.3 Reward function\n",
        "\n",
        "We're almost ready to begin the learning algorithm for our agent! The next step is to compute the rewards of our agent as it acts in the environment. Since we (and the agent) is uncertain about if and when the game or task will end (i.e., when the pole will fall), it is useful to emphasize getting rewards **now** rather than later in the future -- this is the idea of discounting. This is a similar concept to discounting money in the case of interest. Recall from lecture, we use reward discount to give more preference at getting rewards now rather than later in the future. The idea of discounting rewards is similar to discounting money in the case of interest.\n",
        "\n",
        "To compute the expected cumulative reward, known as the **return**, at a given timestep in a learning episode, we sum the discounted rewards expected at that time step $t$, within a learning episode, and projecting into the future. We define the return (cumulative reward) at a time step $t$, $R_{t}$ as:\n",
        "\n",
        ">$R_{t}=\\sum_{k=0}^\\infty\\gamma^kr_{t+k}$\n",
        "\n",
        "where  $0 < \\gamma < 1$ is the discount factor and $r_{t}$ is the reward at time step $t$, and the index $k$ increments projection into the future within a single learning episode. Intuitively, you can think of this function as depreciating any rewards received at later time steps, which will force the agent prioritize getting rewards now. Since we can't extend episodes to infinity, in practice the computation will be limited to the number of timesteps in an episode -- after that the reward is assumed to be zero.\n",
        "\n",
        "Take note of the form of this sum -- we'll have to be clever about how we implement this function. Specifically, we'll need to initialize an array of zeros, with length of the number of time steps, and fill it with the real discounted reward values as we loop through the rewards from the episode, which will have been saved in the agents memory. What we ultimately care about is which actions are better relative to other actions taken in that episode -- so, we'll normalize our computed rewards, using the mean and standard deviation of the rewards across the learning episode.\n",
        "\n",
        "We will use this definition of the reward function in both parts of the lab so make sure you have it executed!\n"
      ]
    },
    {
      "cell_type": "code",
      "execution_count": 22,
      "metadata": {
        "id": "5_Q2OFYtQ32X"
      },
      "outputs": [],
      "source": [
        "### Reward function ###\n",
        "\n",
        "# Helper function that normalizes an np.array x\n",
        "def normalize(x):\n",
        "    x -= np.mean(x)\n",
        "    x /= np.std(x)\n",
        "    return x.astype(np.float32)\n",
        "\n",
        "# Compute normalized, discounted, cumulative rewards (i.e., return)\n",
        "# Arguments:\n",
        "#   rewards: reward at timesteps in episode\n",
        "#   gamma: discounting factor\n",
        "# Returns:\n",
        "#   normalized discounted reward\n",
        "def discount_rewards(rewards, gamma=0.95): \n",
        "    discounted_rewards = np.zeros_like(rewards)\n",
        "    R = 0\n",
        "    for t in reversed(range(0, len(rewards))):\n",
        "        # update the total discounted reward\n",
        "        R = R * gamma + rewards[t]\n",
        "        discounted_rewards[t] = R\n",
        "      \n",
        "    return normalize(discounted_rewards)"
      ]
    },
    {
      "cell_type": "markdown",
      "metadata": {
        "id": "QzbY-mjGYcmt"
      },
      "source": [
        "## 3.4 Learning algorithm\n",
        "\n",
        "Now we can start to define the learing algorithm which will be used to reinforce good behaviors of the agent and discourage bad behaviours. In this lab, we will focus on *policy gradient* methods which aim to **maximize** the likelihood of actions that result in large rewards. Equivalently, this means that we want to **minimize** the negative likelihood of these same actions. We achieve this by simply **scaling** the probabilities by their associated rewards -- effectively amplifying the likelihood of actions that resujlt in large rewards.\n",
        "\n",
        "Since the log function is monotonically increasing, this means that minimizing **negative likelihood** is equivalent to minimizing **negative log-likelihood**.  Recall that we can easily compute the negative log-likelihood of a discrete action by evaluting its [softmax cross entropy](https://www.tensorflow.org/api_docs/python/tf/nn/sparse_softmax_cross_entropy_with_logits). Like in supervised learning, we can use stochastic gradient descent methods to achieve the desired minimization. \n",
        "\n",
        "Let's begin by defining the loss function."
      ]
    },
    {
      "cell_type": "code",
      "execution_count": 23,
      "metadata": {
        "id": "fsgZ3IDCY_Zn"
      },
      "outputs": [],
      "source": [
        "### Loss function ###\n",
        "\n",
        "# Arguments:\n",
        "#   logits: network's predictions for actions to take\n",
        "#   actions: the actions the agent took in an episode\n",
        "#   rewards: the rewards the agent received in an episode\n",
        "# Returns:\n",
        "#   loss\n",
        "def compute_loss(logits, actions, rewards): \n",
        "    '''TODO: complete the function call to compute the negative log probabilities'''\n",
        "    # neg_logprob = tf.nn.sparse_softmax_cross_entropy_with_logits(\n",
        "    #    logits='''TODO''', labels='''TODO''')\n",
        "    neg_logprob = tf.nn.sparse_softmax_cross_entropy_with_logits(\n",
        "        logits=logits, labels=actions\n",
        "    )\n",
        "  \n",
        "    '''TODO: scale the negative log probability by the rewards'''\n",
        "    loss = tf.reduce_mean(neg_logprob * rewards)\n",
        "    # loss = tf.reduce_mean('''TODO''')\n",
        "    return loss"
      ]
    },
    {
      "cell_type": "markdown",
      "metadata": {
        "id": "Rr5vQ9fqbPpp"
      },
      "source": [
        "Now let's use the loss function to define a training step of our learning algorithm. This is a very generalizable definition which we will use "
      ]
    },
    {
      "cell_type": "code",
      "execution_count": 34,
      "metadata": {
        "id": "_50ada7nbZ7L"
      },
      "outputs": [],
      "source": [
        "### Training step (forward and backpropagation) ###\n",
        "\n",
        "def train_step(model, loss_function, optimizer, observations, actions, discounted_rewards, custom_fwd_fn=None):\n",
        "    with tf.GradientTape() as tape:\n",
        "        # Forward propagate through the agent network\n",
        "        if custom_fwd_fn is not None:\n",
        "            prediction = custom_fwd_fn(observations)\n",
        "        else: \n",
        "            prediction = model(observations)\n",
        "\n",
        "        '''TODO: call the compute_loss function to compute the loss'''\n",
        "        loss = loss_function(prediction, actions, discounted_rewards)\n",
        "        # loss = loss_function('''TODO''', '''TODO''', '''TODO''')\n",
        "\n",
        "    '''TODO: run backpropagation to minimize the loss using the tape.gradient method. \n",
        "             Unlike supervised learning, RL is *extremely* noisy, so you will benefit \n",
        "             from additionally clipping your gradients to avoid falling into \n",
        "             dangerous local minima. After computing your gradients try also clipping\n",
        "             by a global normalizer. Try different clipping values, usually clipping \n",
        "             between 0.5 and 5 provides reasonable results. '''\n",
        "    grads = tape.gradient(loss, model.trainable_variables)\n",
        "    # grads = tape.gradient('''TODO''', '''TODO''')\n",
        "\n",
        "    # grads, _ = tf.clip_by_global_norm(grads, '''TODO''')\n",
        "    grads, _ = tf.clip_by_global_norm(grads, 3)\n",
        "    optimizer.apply_gradients(zip(grads, model.trainable_variables))"
      ]
    },
    {
      "cell_type": "markdown",
      "metadata": {
        "id": "XsjKXh6BcgjR"
      },
      "source": [
        "## 3.5 Run cartpole!\n",
        "\n",
        "Having had no prior knowledge of the environment, the agent will begin to learn how to balance the pole on the cart based only on the feedback received from the environment! Having defined how our agent can move, how it takes in new observations, and how it updates its state, we'll see how it gradually learns a policy of actions to optimize balancing the pole as long as possible. To do this, we'll track how the rewards evolve as a function of training -- how should the rewards change as training progresses?"
      ]
    },
    {
      "cell_type": "code",
      "execution_count": 31,
      "metadata": {
        "id": "-hZ7E6JOJ9Bn"
      },
      "outputs": [],
      "source": [
        "## Training parameters ##\n",
        "## Re-run this cell to restart training from scratch ##\n",
        "\n",
        "# TODO: Learning rate and optimizer\n",
        "# learning_rate = '''TODO'''\n",
        "learning_rate = 1e-3\n",
        "\n",
        "# optimizer = '''TODO'''\n",
        "optimizer = tf.optimizers.Adam(learning_rate)\n",
        "\n",
        "# instantiate cartpole agent\n",
        "cartpole_model = create_cartpole_model()\n",
        "\n",
        "# to track our progress\n",
        "smoothed_reward = mdl.util.LossHistory(smoothing_factor=0.95)\n",
        "plotter = mdl.util.PeriodicPlotter(sec=2, xlabel='Iterations', ylabel='Rewards')"
      ]
    },
    {
      "cell_type": "code",
      "execution_count": 15,
      "metadata": {
        "id": "XmOzc2rrcn8Q",
        "scrolled": false,
        "outputId": "93128e61-42e0-4642-a642-50c2ca3f7d32",
        "colab": {
          "base_uri": "https://localhost:8080/",
          "height": 541
        }
      },
      "outputs": [
        {
          "output_type": "display_data",
          "data": {
            "image/png": "[encoded data removed]",
            "text/plain": [
              "<Figure size 432x288 with 1 Axes>"
            ]
          },
          "metadata": {}
        },
        {
          "output_type": "display_data",
          "data": {
            "image/png": "[encoded data removed]",
            "text/plain": [
              "<Figure size 432x288 with 1 Axes>"
            ]
          },
          "metadata": {
            "needs_background": "light"
          }
        }
      ],
      "source": [
        "## Cartpole training! ##\n",
        "## Note: stoping and restarting this cell will pick up training where you\n",
        "#        left off. To restart training you need to rerun the cell above as \n",
        "#        well (to re-initialize the model and optimizer)\n",
        "\n",
        "if hasattr(tqdm, '_instances'): tqdm._instances.clear() # clear if it exists\n",
        "for i_episode in range(500):\n",
        "\n",
        "    plotter.plot(smoothed_reward.get())\n",
        "    # Restart the environment\n",
        "    observation = env.reset()\n",
        "    memory.clear()\n",
        "\n",
        "    while True:\n",
        "        # using our observation, choose an action and take it in the environment\n",
        "        action = choose_action(cartpole_model, observation)\n",
        "        next_observation, reward, done, info = env.step(action)\n",
        "        # add to memory\n",
        "        memory.add_to_memory(observation, action, reward)\n",
        "\n",
        "        # is the episode over? did you crash or do so well that you're done?\n",
        "        if done:\n",
        "            # determine total reward and keep a record of this\n",
        "            total_reward = sum(memory.rewards)\n",
        "            smoothed_reward.append(total_reward)\n",
        "          \n",
        "            # initiate training - remember we don't know anything about how the \n",
        "            #   agent is doing until it has crashed!\n",
        "            g = train_step(cartpole_model, compute_loss, optimizer, \n",
        "                       observations=np.vstack(memory.observations),\n",
        "                       actions=np.array(memory.actions),\n",
        "                       discounted_rewards = discount_rewards(memory.rewards))\n",
        "          \n",
        "            # reset the memory\n",
        "            memory.clear()\n",
        "            break\n",
        "        # update our observatons\n",
        "        observation = next_observation"
      ]
    },
    {
      "cell_type": "markdown",
      "metadata": {
        "id": "mkcUtGF1VE-K"
      },
      "source": [
        "To get a sense of how our agent did, we can save a video of the trained model working on balancing the pole. Realize that this is a brand new environment that the agent has not seen before!\n",
        "\n",
        "Let's display the saved video to watch how our agent did!\n"
      ]
    },
    {
      "cell_type": "code",
      "execution_count": 16,
      "metadata": {
        "id": "PAYBkv6Zbk0J",
        "scrolled": true,
        "outputId": "1681df06-ae98-477a-af91-ebd9cc01775f",
        "colab": {
          "base_uri": "https://localhost:8080/",
          "height": 439
        }
      },
      "outputs": [
        {
          "output_type": "stream",
          "name": "stdout",
          "text": [
            "Successfully saved 469 frames into CartPole-v1.mp4!\n"
          ]
        },
        {
          "output_type": "execute_result",
          "data": {
            "text/html": [
              "\n",
              "        <video controls >\n",
              "            <source src=\"data:video/mp4;base64,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\" type=\"video/mp4\" />\n",
              "        </video>"
            ],
            "text/plain": [
              "<IPython.core.display.HTML object>"
            ]
          },
          "metadata": {},
          "execution_count": 16
        }
      ],
      "source": [
        "matplotlib.use('Agg') \n",
        "saved_cartpole = mdl.lab3.save_video_of_model(cartpole_model, \"CartPole-v1\")\n",
        "mdl.lab3.play_video(saved_cartpole)"
      ]
    },
    {
      "cell_type": "markdown",
      "metadata": {
        "id": "CSbVNDpaVb3_"
      },
      "source": [
        "How does the agent perform? Could you train it for shorter amounts of time and still perform well? Do you think that training longer would help even more? "
      ]
    }
  ],
  "metadata": {
    "accelerator": "GPU",
    "colab": {
      "collapsed_sections": [
        "WoXYKhfZMHiw",
        "UT7YL8KBJIIc",
        "Eu6Mqxc720ST"
      ],
      "name": "RL.ipynb",
      "provenance": []
    },
    "kernelspec": {
      "display_name": "Python 3",
      "language": "python",
      "name": "python3"
    },
    "language_info": {
      "codemirror_mode": {
        "name": "ipython",
        "version": 3
      },
      "file_extension": ".py",
      "mimetype": "text/x-python",
      "name": "python",
      "nbconvert_exporter": "python",
      "pygments_lexer": "ipython3",
      "version": "3.9.7"
    }
  },
  "nbformat": 4,
  "nbformat_minor": 0
}